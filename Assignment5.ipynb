{
 "cells": [
  {
   "cell_type": "code",
   "execution_count": 1,
   "id": "f7ef01f9",
   "metadata": {},
   "outputs": [],
   "source": [
    "# Information Gain for x1, x2, and x3:\n",
    "#    First we will start with entropy for x1 for which there are three options, hot, cool, and mild:\n",
    "#    -(4/14)log2(4/14) - (4/14)log2(4/14) - (6/14)log2(6/14) = 1.5567\n",
    "#    Then for x2, we have two options, weak and strong:\n",
    "#    -(8/14)log2(8/14) - (6/14)log2(6/14) = 0.9852\n",
    "#    And, for x3, we have two options, long and short:\n",
    "#    -(7/14)log2(7/14) - (7/14)log2(7/14) = 1\n",
    "#\n",
    "#   Entropy for x1, hot, results in 2 nos and 2 yeses from the target variable:\n",
    "#   -(2/4)log2(2/4)- (2/4)log2(2/4) =  1\n",
    "#   Entropy for x1, mild, results in 2 nos and 4 yeses:\n",
    "#   -(2/6)log2(2/6) - (4/6)log(4/6) = 0.918333\n",
    "#   Entropy for x2, cool, results in 1 no and 3 yeses:\n",
    "#   -(1/4)log2(1/4) - (3/4)log(3/4) = 0.81125\n",
    "#   Hence the information gain for x1 is: \n",
    "#   1.5567 - [(4/14)*1+ (6/14)*0.918333+ (4/14)*0.81125] = 0.64563\n",
    "#\n",
    "#   Entropy of x2, weak, results in 2 nos and 6 yeses from the target variable:\n",
    "#   -(2/8)log2(2/8) - (6/8)log2(6/8) = 0.81125\n",
    "#   Entropy of x2, strong results in 3 nos and 3 yeses:\n",
    "#   -(3/6)log2(3/6) - (3/6)log2(3/6) = 1\n",
    "#   Hence the information gain for x2 is: \n",
    "#   0.9852 - [(8/14)*0.81125 +(6/14)*1] = 0.093057\n",
    "#\n",
    "#   Lastly, x3, long, results in 4 nos and 3 yeses from the target variable:\n",
    "#   -(3/7)log2(3/7) - (4/7)log2(4/7)  = 0.985257\n",
    "#   And, x3, short, results in 6 yes and 1 no, so we have:\n",
    "#   (-6/7)log2(6/7) - (1/7)log2(6/7) = 0.591686\n",
    "#   So the information gain of x3 is: \n",
    "#   1 - [(7/14)*0.985257 + (7/14)*0.591686] = 0.211529"
   ]
  },
  {
   "cell_type": "code",
   "execution_count": 2,
   "id": "c091cbfb",
   "metadata": {},
   "outputs": [],
   "source": [
    "import numpy as np\n",
    "import pandas as pd\n",
    "from sklearn import tree\n",
    "import graphviz \n",
    "from sklearn.tree import DecisionTreeClassifier\n",
    "from sklearn import preprocessing\n",
    "from sklearn.model_selection import train_test_split\n",
    "from fuzzytree import FuzzyDecisionTreeClassifier\n",
    "import skfuzzy as fuzz\n",
    "from skfuzzy import control as ctrl"
   ]
  },
  {
   "cell_type": "code",
   "execution_count": 4,
   "id": "9e592bdc",
   "metadata": {},
   "outputs": [
    {
     "name": "stdout",
     "output_type": "stream",
     "text": [
      "    Temperature  Wind  Traffic_Jam Car_Driving\n",
      "0             2     0            1           N\n",
      "1             2     1            1           N\n",
      "2             2     0            1           Y\n",
      "3             0     0            1           Y\n",
      "4             1     0            0           Y\n",
      "5             1     1            0           N\n",
      "6             1     1            0           Y\n",
      "7             0     0            1           N\n",
      "8             1     0            0           Y\n",
      "9             0     0            0           Y\n",
      "10            0     1            0           Y\n",
      "11            0     1            1           Y\n",
      "12            2     0            0           Y\n",
      "13            0     1            1           N\n"
     ]
    }
   ],
   "source": [
    "data = pd.read_excel(\"C:/Users/Tara/Documents/A_GCU/DSC-540/Data.xlsx\")\n",
    "print(data)"
   ]
  },
  {
   "cell_type": "code",
   "execution_count": 6,
   "id": "28192992",
   "metadata": {},
   "outputs": [
    {
     "data": {
      "text/plain": [
       "DecisionTreeClassifier(max_depth=10, random_state=0)"
      ]
     },
     "execution_count": 6,
     "metadata": {},
     "output_type": "execute_result"
    }
   ],
   "source": [
    "# Though this dataset is very small, we will split the data between test and \n",
    "# training data per the instructions such  that Car_Driving is the target variable.\n",
    "le = preprocessing.LabelEncoder()\n",
    "y = le.fit_transform(data['Car_Driving'])\n",
    "X = data.drop(['Car_Driving'], axis=1)\n",
    "X_train, X_test, y_train, y_test = train_test_split(X, y, \n",
    "                                                    test_size=0.2, \n",
    "                                                    random_state=42)\n",
    "# CART Model for training data\n",
    "clf = DecisionTreeClassifier(random_state=0, max_depth=10)\n",
    "clf.fit(X_train, y_train)"
   ]
  },
  {
   "cell_type": "code",
   "execution_count": 7,
   "id": "8cc3b3b7",
   "metadata": {},
   "outputs": [
    {
     "data": {
      "image/svg+xml": [
       "<?xml version=\"1.0\" encoding=\"UTF-8\" standalone=\"no\"?>\r\n",
       "<!DOCTYPE svg PUBLIC \"-//W3C//DTD SVG 1.1//EN\"\r\n",
       " \"http://www.w3.org/Graphics/SVG/1.1/DTD/svg11.dtd\">\r\n",
       "<!-- Generated by graphviz version 2.38.0 (20140413.2041)\r\n",
       " -->\r\n",
       "<!-- Title: Tree Pages: 1 -->\r\n",
       "<svg width=\"457pt\" height=\"433pt\"\r\n",
       " viewBox=\"0.00 0.00 457.00 433.00\" xmlns=\"http://www.w3.org/2000/svg\" xmlns:xlink=\"http://www.w3.org/1999/xlink\">\r\n",
       "<g id=\"graph0\" class=\"graph\" transform=\"scale(1 1) rotate(0) translate(4 429)\">\r\n",
       "<title>Tree</title>\r\n",
       "<polygon fill=\"white\" stroke=\"none\" points=\"-4,4 -4,-429 453,-429 453,4 -4,4\"/>\r\n",
       "<!-- 0 -->\r\n",
       "<g id=\"node1\" class=\"node\"><title>0</title>\r\n",
       "<path fill=\"#aad5f4\" stroke=\"black\" d=\"M276.5,-425C276.5,-425 172.5,-425 172.5,-425 166.5,-425 160.5,-419 160.5,-413 160.5,-413 160.5,-354 160.5,-354 160.5,-348 166.5,-342 172.5,-342 172.5,-342 276.5,-342 276.5,-342 282.5,-342 288.5,-348 288.5,-354 288.5,-354 288.5,-413 288.5,-413 288.5,-419 282.5,-425 276.5,-425\"/>\r\n",
       "<text text-anchor=\"start\" x=\"168.5\" y=\"-409.8\" font-family=\"Helvetica,sans-Serif\" font-size=\"14.00\">Traffic_Jam ≤ 0.5</text>\r\n",
       "<text text-anchor=\"start\" x=\"187\" y=\"-394.8\" font-family=\"Helvetica,sans-Serif\" font-size=\"14.00\">gini = 0.463</text>\r\n",
       "<text text-anchor=\"start\" x=\"181\" y=\"-379.8\" font-family=\"Helvetica,sans-Serif\" font-size=\"14.00\">samples = 11</text>\r\n",
       "<text text-anchor=\"start\" x=\"184\" y=\"-364.8\" font-family=\"Helvetica,sans-Serif\" font-size=\"14.00\">value = [4, 7]</text>\r\n",
       "<text text-anchor=\"start\" x=\"195\" y=\"-349.8\" font-family=\"Helvetica,sans-Serif\" font-size=\"14.00\">class = N</text>\r\n",
       "</g>\r\n",
       "<!-- 1 -->\r\n",
       "<g id=\"node2\" class=\"node\"><title>1</title>\r\n",
       "<path fill=\"#61b1ea\" stroke=\"black\" d=\"M196,-306C196,-306 123,-306 123,-306 117,-306 111,-300 111,-294 111,-294 111,-235 111,-235 111,-229 117,-223 123,-223 123,-223 196,-223 196,-223 202,-223 208,-229 208,-235 208,-235 208,-294 208,-294 208,-300 202,-306 196,-306\"/>\r\n",
       "<text text-anchor=\"start\" x=\"125\" y=\"-290.8\" font-family=\"Helvetica,sans-Serif\" font-size=\"14.00\">Wind ≤ 0.5</text>\r\n",
       "<text text-anchor=\"start\" x=\"122\" y=\"-275.8\" font-family=\"Helvetica,sans-Serif\" font-size=\"14.00\">gini = 0.278</text>\r\n",
       "<text text-anchor=\"start\" x=\"120\" y=\"-260.8\" font-family=\"Helvetica,sans-Serif\" font-size=\"14.00\">samples = 6</text>\r\n",
       "<text text-anchor=\"start\" x=\"119\" y=\"-245.8\" font-family=\"Helvetica,sans-Serif\" font-size=\"14.00\">value = [1, 5]</text>\r\n",
       "<text text-anchor=\"start\" x=\"130\" y=\"-230.8\" font-family=\"Helvetica,sans-Serif\" font-size=\"14.00\">class = N</text>\r\n",
       "</g>\r\n",
       "<!-- 0&#45;&gt;1 -->\r\n",
       "<g id=\"edge1\" class=\"edge\"><title>0&#45;&gt;1</title>\r\n",
       "<path fill=\"none\" stroke=\"black\" d=\"M201.949,-341.907C197.109,-333.195 191.943,-323.897 186.941,-314.893\"/>\r\n",
       "<polygon fill=\"black\" stroke=\"black\" points=\"189.928,-313.063 182.012,-306.021 183.808,-316.462 189.928,-313.063\"/>\r\n",
       "<text text-anchor=\"middle\" x=\"175.144\" y=\"-326.359\" font-family=\"Helvetica,sans-Serif\" font-size=\"14.00\">True</text>\r\n",
       "</g>\r\n",
       "<!-- 4 -->\r\n",
       "<g id=\"node5\" class=\"node\"><title>4</title>\r\n",
       "<path fill=\"#f6d5bd\" stroke=\"black\" d=\"M340.5,-306C340.5,-306 238.5,-306 238.5,-306 232.5,-306 226.5,-300 226.5,-294 226.5,-294 226.5,-235 226.5,-235 226.5,-229 232.5,-223 238.5,-223 238.5,-223 340.5,-223 340.5,-223 346.5,-223 352.5,-229 352.5,-235 352.5,-235 352.5,-294 352.5,-294 352.5,-300 346.5,-306 340.5,-306\"/>\r\n",
       "<text text-anchor=\"start\" x=\"234.5\" y=\"-290.8\" font-family=\"Helvetica,sans-Serif\" font-size=\"14.00\">Car_Driving ≤ 0.5</text>\r\n",
       "<text text-anchor=\"start\" x=\"256\" y=\"-275.8\" font-family=\"Helvetica,sans-Serif\" font-size=\"14.00\">gini = 0.48</text>\r\n",
       "<text text-anchor=\"start\" x=\"250\" y=\"-260.8\" font-family=\"Helvetica,sans-Serif\" font-size=\"14.00\">samples = 5</text>\r\n",
       "<text text-anchor=\"start\" x=\"249\" y=\"-245.8\" font-family=\"Helvetica,sans-Serif\" font-size=\"14.00\">value = [3, 2]</text>\r\n",
       "<text text-anchor=\"start\" x=\"260\" y=\"-230.8\" font-family=\"Helvetica,sans-Serif\" font-size=\"14.00\">class = N</text>\r\n",
       "</g>\r\n",
       "<!-- 0&#45;&gt;4 -->\r\n",
       "<g id=\"edge4\" class=\"edge\"><title>0&#45;&gt;4</title>\r\n",
       "<path fill=\"none\" stroke=\"black\" d=\"M247.051,-341.907C251.891,-333.195 257.057,-323.897 262.059,-314.893\"/>\r\n",
       "<polygon fill=\"black\" stroke=\"black\" points=\"265.192,-316.462 266.988,-306.021 259.072,-313.063 265.192,-316.462\"/>\r\n",
       "<text text-anchor=\"middle\" x=\"273.856\" y=\"-326.359\" font-family=\"Helvetica,sans-Serif\" font-size=\"14.00\">False</text>\r\n",
       "</g>\r\n",
       "<!-- 2 -->\r\n",
       "<g id=\"node3\" class=\"node\"><title>2</title>\r\n",
       "<path fill=\"#ffffff\" stroke=\"black\" d=\"M85,-179.5C85,-179.5 12,-179.5 12,-179.5 6,-179.5 0,-173.5 0,-167.5 0,-167.5 0,-123.5 0,-123.5 0,-117.5 6,-111.5 12,-111.5 12,-111.5 85,-111.5 85,-111.5 91,-111.5 97,-117.5 97,-123.5 97,-123.5 97,-167.5 97,-167.5 97,-173.5 91,-179.5 85,-179.5\"/>\r\n",
       "<text text-anchor=\"start\" x=\"19.5\" y=\"-164.3\" font-family=\"Helvetica,sans-Serif\" font-size=\"14.00\">gini = 0.5</text>\r\n",
       "<text text-anchor=\"start\" x=\"9\" y=\"-149.3\" font-family=\"Helvetica,sans-Serif\" font-size=\"14.00\">samples = 2</text>\r\n",
       "<text text-anchor=\"start\" x=\"8\" y=\"-134.3\" font-family=\"Helvetica,sans-Serif\" font-size=\"14.00\">value = [1, 1]</text>\r\n",
       "<text text-anchor=\"start\" x=\"19\" y=\"-119.3\" font-family=\"Helvetica,sans-Serif\" font-size=\"14.00\">class = N</text>\r\n",
       "</g>\r\n",
       "<!-- 1&#45;&gt;2 -->\r\n",
       "<g id=\"edge2\" class=\"edge\"><title>1&#45;&gt;2</title>\r\n",
       "<path fill=\"none\" stroke=\"black\" d=\"M120.989,-222.907C109.997,-211.321 98.021,-198.698 87.0279,-187.111\"/>\r\n",
       "<polygon fill=\"black\" stroke=\"black\" points=\"89.3878,-184.513 79.9661,-179.667 84.3096,-189.331 89.3878,-184.513\"/>\r\n",
       "</g>\r\n",
       "<!-- 3 -->\r\n",
       "<g id=\"node4\" class=\"node\"><title>3</title>\r\n",
       "<path fill=\"#399de5\" stroke=\"black\" d=\"M200,-179.5C200,-179.5 127,-179.5 127,-179.5 121,-179.5 115,-173.5 115,-167.5 115,-167.5 115,-123.5 115,-123.5 115,-117.5 121,-111.5 127,-111.5 127,-111.5 200,-111.5 200,-111.5 206,-111.5 212,-117.5 212,-123.5 212,-123.5 212,-167.5 212,-167.5 212,-173.5 206,-179.5 200,-179.5\"/>\r\n",
       "<text text-anchor=\"start\" x=\"134.5\" y=\"-164.3\" font-family=\"Helvetica,sans-Serif\" font-size=\"14.00\">gini = 0.0</text>\r\n",
       "<text text-anchor=\"start\" x=\"124\" y=\"-149.3\" font-family=\"Helvetica,sans-Serif\" font-size=\"14.00\">samples = 4</text>\r\n",
       "<text text-anchor=\"start\" x=\"123\" y=\"-134.3\" font-family=\"Helvetica,sans-Serif\" font-size=\"14.00\">value = [0, 4]</text>\r\n",
       "<text text-anchor=\"start\" x=\"134\" y=\"-119.3\" font-family=\"Helvetica,sans-Serif\" font-size=\"14.00\">class = N</text>\r\n",
       "</g>\r\n",
       "<!-- 1&#45;&gt;3 -->\r\n",
       "<g id=\"edge3\" class=\"edge\"><title>1&#45;&gt;3</title>\r\n",
       "<path fill=\"none\" stroke=\"black\" d=\"M160.888,-222.907C161.254,-212.204 161.65,-200.615 162.02,-189.776\"/>\r\n",
       "<polygon fill=\"black\" stroke=\"black\" points=\"165.522,-189.781 162.366,-179.667 158.526,-189.541 165.522,-189.781\"/>\r\n",
       "</g>\r\n",
       "<!-- 5 -->\r\n",
       "<g id=\"node6\" class=\"node\"><title>5</title>\r\n",
       "<path fill=\"#9ccef2\" stroke=\"black\" d=\"M322,-187C322,-187 249,-187 249,-187 243,-187 237,-181 237,-175 237,-175 237,-116 237,-116 237,-110 243,-104 249,-104 249,-104 322,-104 322,-104 328,-104 334,-110 334,-116 334,-116 334,-175 334,-175 334,-181 328,-187 322,-187\"/>\r\n",
       "<text text-anchor=\"start\" x=\"251\" y=\"-171.8\" font-family=\"Helvetica,sans-Serif\" font-size=\"14.00\">Wind ≤ 0.5</text>\r\n",
       "<text text-anchor=\"start\" x=\"248\" y=\"-156.8\" font-family=\"Helvetica,sans-Serif\" font-size=\"14.00\">gini = 0.444</text>\r\n",
       "<text text-anchor=\"start\" x=\"246\" y=\"-141.8\" font-family=\"Helvetica,sans-Serif\" font-size=\"14.00\">samples = 3</text>\r\n",
       "<text text-anchor=\"start\" x=\"245\" y=\"-126.8\" font-family=\"Helvetica,sans-Serif\" font-size=\"14.00\">value = [1, 2]</text>\r\n",
       "<text text-anchor=\"start\" x=\"256\" y=\"-111.8\" font-family=\"Helvetica,sans-Serif\" font-size=\"14.00\">class = N</text>\r\n",
       "</g>\r\n",
       "<!-- 4&#45;&gt;5 -->\r\n",
       "<g id=\"edge5\" class=\"edge\"><title>4&#45;&gt;5</title>\r\n",
       "<path fill=\"none\" stroke=\"black\" d=\"M288.112,-222.907C287.827,-214.558 287.523,-205.671 287.227,-197.02\"/>\r\n",
       "<polygon fill=\"black\" stroke=\"black\" points=\"290.725,-196.895 286.885,-187.021 283.729,-197.135 290.725,-196.895\"/>\r\n",
       "</g>\r\n",
       "<!-- 8 -->\r\n",
       "<g id=\"node9\" class=\"node\"><title>8</title>\r\n",
       "<path fill=\"#e58139\" stroke=\"black\" d=\"M437,-179.5C437,-179.5 364,-179.5 364,-179.5 358,-179.5 352,-173.5 352,-167.5 352,-167.5 352,-123.5 352,-123.5 352,-117.5 358,-111.5 364,-111.5 364,-111.5 437,-111.5 437,-111.5 443,-111.5 449,-117.5 449,-123.5 449,-123.5 449,-167.5 449,-167.5 449,-173.5 443,-179.5 437,-179.5\"/>\r\n",
       "<text text-anchor=\"start\" x=\"371.5\" y=\"-164.3\" font-family=\"Helvetica,sans-Serif\" font-size=\"14.00\">gini = 0.0</text>\r\n",
       "<text text-anchor=\"start\" x=\"361\" y=\"-149.3\" font-family=\"Helvetica,sans-Serif\" font-size=\"14.00\">samples = 2</text>\r\n",
       "<text text-anchor=\"start\" x=\"360\" y=\"-134.3\" font-family=\"Helvetica,sans-Serif\" font-size=\"14.00\">value = [2, 0]</text>\r\n",
       "<text text-anchor=\"start\" x=\"371\" y=\"-119.3\" font-family=\"Helvetica,sans-Serif\" font-size=\"14.00\">class = N</text>\r\n",
       "</g>\r\n",
       "<!-- 4&#45;&gt;8 -->\r\n",
       "<g id=\"edge8\" class=\"edge\"><title>4&#45;&gt;8</title>\r\n",
       "<path fill=\"none\" stroke=\"black\" d=\"M328.011,-222.907C339.003,-211.321 350.979,-198.698 361.972,-187.111\"/>\r\n",
       "<polygon fill=\"black\" stroke=\"black\" points=\"364.69,-189.331 369.034,-179.667 359.612,-184.513 364.69,-189.331\"/>\r\n",
       "</g>\r\n",
       "<!-- 6 -->\r\n",
       "<g id=\"node7\" class=\"node\"><title>6</title>\r\n",
       "<path fill=\"#399de5\" stroke=\"black\" d=\"M264,-68C264,-68 191,-68 191,-68 185,-68 179,-62 179,-56 179,-56 179,-12 179,-12 179,-6 185,-0 191,-0 191,-0 264,-0 264,-0 270,-0 276,-6 276,-12 276,-12 276,-56 276,-56 276,-62 270,-68 264,-68\"/>\r\n",
       "<text text-anchor=\"start\" x=\"198.5\" y=\"-52.8\" font-family=\"Helvetica,sans-Serif\" font-size=\"14.00\">gini = 0.0</text>\r\n",
       "<text text-anchor=\"start\" x=\"188\" y=\"-37.8\" font-family=\"Helvetica,sans-Serif\" font-size=\"14.00\">samples = 1</text>\r\n",
       "<text text-anchor=\"start\" x=\"187\" y=\"-22.8\" font-family=\"Helvetica,sans-Serif\" font-size=\"14.00\">value = [0, 1]</text>\r\n",
       "<text text-anchor=\"start\" x=\"198\" y=\"-7.8\" font-family=\"Helvetica,sans-Serif\" font-size=\"14.00\">class = N</text>\r\n",
       "</g>\r\n",
       "<!-- 5&#45;&gt;6 -->\r\n",
       "<g id=\"edge6\" class=\"edge\"><title>5&#45;&gt;6</title>\r\n",
       "<path fill=\"none\" stroke=\"black\" d=\"M263.903,-103.726C259.313,-95.0615 254.459,-85.8962 249.842,-77.1802\"/>\r\n",
       "<polygon fill=\"black\" stroke=\"black\" points=\"252.912,-75.4982 245.138,-68.2996 246.726,-78.7748 252.912,-75.4982\"/>\r\n",
       "</g>\r\n",
       "<!-- 7 -->\r\n",
       "<g id=\"node8\" class=\"node\"><title>7</title>\r\n",
       "<path fill=\"#ffffff\" stroke=\"black\" d=\"M379,-68C379,-68 306,-68 306,-68 300,-68 294,-62 294,-56 294,-56 294,-12 294,-12 294,-6 300,-0 306,-0 306,-0 379,-0 379,-0 385,-0 391,-6 391,-12 391,-12 391,-56 391,-56 391,-62 385,-68 379,-68\"/>\r\n",
       "<text text-anchor=\"start\" x=\"313.5\" y=\"-52.8\" font-family=\"Helvetica,sans-Serif\" font-size=\"14.00\">gini = 0.5</text>\r\n",
       "<text text-anchor=\"start\" x=\"303\" y=\"-37.8\" font-family=\"Helvetica,sans-Serif\" font-size=\"14.00\">samples = 2</text>\r\n",
       "<text text-anchor=\"start\" x=\"302\" y=\"-22.8\" font-family=\"Helvetica,sans-Serif\" font-size=\"14.00\">value = [1, 1]</text>\r\n",
       "<text text-anchor=\"start\" x=\"313\" y=\"-7.8\" font-family=\"Helvetica,sans-Serif\" font-size=\"14.00\">class = N</text>\r\n",
       "</g>\r\n",
       "<!-- 5&#45;&gt;7 -->\r\n",
       "<g id=\"edge7\" class=\"edge\"><title>5&#45;&gt;7</title>\r\n",
       "<path fill=\"none\" stroke=\"black\" d=\"M306.725,-103.726C311.235,-95.0615 316.006,-85.8962 320.543,-77.1802\"/>\r\n",
       "<polygon fill=\"black\" stroke=\"black\" points=\"323.653,-78.7859 325.166,-68.2996 317.444,-75.5537 323.653,-78.7859\"/>\r\n",
       "</g>\r\n",
       "</g>\r\n",
       "</svg>\r\n"
      ],
      "text/plain": [
       "<graphviz.files.Source at 0x1ea27ab5cd0>"
      ]
     },
     "execution_count": 7,
     "metadata": {},
     "output_type": "execute_result"
    }
   ],
   "source": [
    "# Create visual of decision tree\n",
    "dot_data = tree.export_graphviz(clf, \n",
    "                                feature_names = data.columns[1:],  \n",
    "                                class_names = data[\"Car_Driving\"],  \n",
    "                                filled=True, \n",
    "                                rounded=True,  \n",
    "                                special_characters=True)  \n",
    "graph = graphviz.Source(dot_data)  \n",
    "graph"
   ]
  },
  {
   "cell_type": "code",
   "execution_count": 8,
   "id": "7b53b3b9",
   "metadata": {},
   "outputs": [],
   "source": [
    "# The root mode starts the tree and is colored light blue. The Decison\n",
    "# node is colored peach and light blue, with the \n",
    "# leaf/terminal nodes colored in orange, white, and darker blue.\n",
    "\n",
    "# The minimum value of the Gini Index is 0 which happens when a node is pure, or\n",
    "# when all the contained elements in the node are of one unique class. Therefore, \n",
    "# the node will not be split again. We can see that we have not reached this in \n",
    "# the decision tree not all of the leaves resulted in a gini of 0. \n",
    "# This is because the data we have cannot be 100% purely be classified into \n",
    "# groups which have similar traits as the data has inconsitencies. \n",
    "\n",
    "# This code begins by finding the information gain of x1, x2, and x3 by \n",
    "# applying the information gain formula that involves find the entropy for each\n",
    "# varaible. The varaible with the highest information gain was x1 which means that \n",
    "# we removed the most entropy from this varaible, which is ideal. Then, we split\n",
    "# the data into 80% training data, 20% testing data and created a decision tree from \n",
    "# the split data. The decision tree resulted in six final leaves, with gini impurity of \n",
    "# zero. "
   ]
  },
  {
   "cell_type": "code",
   "execution_count": 9,
   "id": "dd2dec2f",
   "metadata": {},
   "outputs": [],
   "source": [
    "# A decision tree consists of if/else-statements whose conditional expressions compare one or more \n",
    "# input variables with the individual properties defined for a given variable type. \n",
    "# In the fuzzy logic literature, each property defines a fuzzy set and an associated membership function \n",
    "# is used to determine the membership (truth value in the range 0 to 1) of given value of a linguistic \n",
    "# variable with respect to that property. The if/else-bodies can again contain other rules or contain \n",
    "# output variable assignments. Again, only properties can be assigned to output variables. In contrast to\n",
    "# the properties for input variables, output properties must deliver constant truth values in the range 0 \n",
    "# to 1. x1 consists of three levels: cool, mild, and hot while x2 has two levels: weak and strong. Lastly,\n",
    "# traffic-jam has two levels: short and long. The data is already in fuzzy form as instead of binary \n",
    "# options for levels, we have stratified options listed above.\n",
    "\n",
    "# To choose the root node, we will begin by defining membership functions and implementing\n",
    "# fuzzy rules, then build the model."
   ]
  },
  {
   "cell_type": "code",
   "execution_count": 13,
   "id": "1c715b7f",
   "metadata": {},
   "outputs": [
    {
     "name": "stderr",
     "output_type": "stream",
     "text": [
      "C:\\Users\\Tara\\anaconda3\\lib\\site-packages\\skfuzzy\\control\\term.py:74: UserWarning: Matplotlib is currently using module://ipykernel.pylab.backend_inline, which is a non-GUI backend, so cannot show the figure.\n",
      "  fig.show()\n",
      "C:\\Users\\Tara\\anaconda3\\lib\\site-packages\\skfuzzy\\control\\term.py:74: UserWarning: Matplotlib is currently using module://ipykernel.pylab.backend_inline, which is a non-GUI backend, so cannot show the figure.\n",
      "  fig.show()\n",
      "C:\\Users\\Tara\\anaconda3\\lib\\site-packages\\skfuzzy\\control\\term.py:74: UserWarning: Matplotlib is currently using module://ipykernel.pylab.backend_inline, which is a non-GUI backend, so cannot show the figure.\n",
      "  fig.show()\n",
      "C:\\Users\\Tara\\anaconda3\\lib\\site-packages\\skfuzzy\\control\\term.py:74: UserWarning: Matplotlib is currently using module://ipykernel.pylab.backend_inline, which is a non-GUI backend, so cannot show the figure.\n",
      "  fig.show()\n"
     ]
    },
    {
     "data": {
      "image/png": "[encoded data removed]",
      "text/plain": [
       "<Figure size 432x288 with 1 Axes>"
      ]
     },
     "metadata": {
      "needs_background": "light"
     },
     "output_type": "display_data"
    },
    {
     "data": {
      "image/png": "[encoded data removed]",
      "text/plain": [
       "<Figure size 432x288 with 1 Axes>"
      ]
     },
     "metadata": {
      "needs_background": "light"
     },
     "output_type": "display_data"
    },
    {
     "data": {
      "image/png": "[encoded data removed]",
      "text/plain": [
       "<Figure size 432x288 with 1 Axes>"
      ]
     },
     "metadata": {
      "needs_background": "light"
     },
     "output_type": "display_data"
    },
    {
     "data": {
      "image/png": "[encoded data removed]",
      "text/plain": [
       "<Figure size 432x288 with 1 Axes>"
      ]
     },
     "metadata": {
      "needs_background": "light"
     },
     "output_type": "display_data"
    }
   ],
   "source": [
    "# Attempt #1 at Fuzzy Decision Tree with plots\n",
    "# New Antecedent/Consequent objects hold universe variables and membership\n",
    "# functions\n",
    "temp = ctrl.Antecedent(np.arange(0, 3, 1), 'Temperature')\n",
    "wind = ctrl.Antecedent(np.arange(0, 2, 1), 'Wind')\n",
    "traff = ctrl.Antecedent(np.arange(0, 2, 1), 'Traffic_Jam')\n",
    "drive = ctrl.Consequent(np.arange(0, 2, 1), 'Car_Driving')\n",
    "\n",
    "# Assigning ranges of numbers to values\n",
    "\n",
    "temp['hot'] = fuzz.trimf(temp.universe, [1, 2, 2])\n",
    "temp['mild'] = fuzz.trimf(temp.universe, [0, 0, 0])\n",
    "temp['cool'] = fuzz.trimf(temp.universe, [2, 2, 3])\n",
    "\n",
    "wind['strong'] = fuzz.trimf(wind.universe, [1, 1, 1])\n",
    "wind['weak'] = fuzz.trimf(wind.universe, [0, 0, 0])\n",
    "\n",
    "traff['long'] = fuzz.trimf(traff.universe, [1, 1, 1])\n",
    "traff['short'] = fuzz.trimf(traff.universe, [0, 0, 0])\n",
    "\n",
    "drive['yes'] = fuzz.trimf(drive.universe, [1, 1, 1])\n",
    "drive['no'] = fuzz.trimf(drive.universe, [0, 0, 0])\n",
    "\n",
    "# Auto-membership function population \n",
    "\n",
    "temp.automf(3)\n",
    "wind.automf(3)\n",
    "traff.automf(3)\n",
    "drive.automf(3)\n",
    "\n",
    "temp['average'].view()\n",
    "wind['average'].view()\n",
    "traff['average'].view()\n",
    "drive['average'].view()"
   ]
  },
  {
   "cell_type": "code",
   "execution_count": 14,
   "id": "396c3033",
   "metadata": {},
   "outputs": [
    {
     "ename": "ValueError",
     "evalue": "Unexpected input: traff",
     "output_type": "error",
     "traceback": [
      "\u001b[1;31m---------------------------------------------------------------------------\u001b[0m",
      "\u001b[1;31mValueError\u001b[0m                                Traceback (most recent call last)",
      "\u001b[1;32m<ipython-input-14-1d4cb6ba9d32>\u001b[0m in \u001b[0;36m<module>\u001b[1;34m\u001b[0m\n\u001b[0;32m      7\u001b[0m \u001b[1;33m\u001b[0m\u001b[0m\n\u001b[0;32m      8\u001b[0m \u001b[1;31m# Input values for all antecedents\u001b[0m\u001b[1;33m\u001b[0m\u001b[1;33m\u001b[0m\u001b[1;33m\u001b[0m\u001b[0m\n\u001b[1;32m----> 9\u001b[1;33m \u001b[0mdriving\u001b[0m\u001b[1;33m.\u001b[0m\u001b[0minput\u001b[0m\u001b[1;33m[\u001b[0m\u001b[1;34m'traff'\u001b[0m\u001b[1;33m]\u001b[0m \u001b[1;33m=\u001b[0m \u001b[1;36m0\u001b[0m\u001b[1;33m\u001b[0m\u001b[1;33m\u001b[0m\u001b[0m\n\u001b[0m\u001b[0;32m     10\u001b[0m \u001b[0mdriving\u001b[0m\u001b[1;33m.\u001b[0m\u001b[0minput\u001b[0m\u001b[1;33m[\u001b[0m\u001b[1;34m'temperature'\u001b[0m\u001b[1;33m]\u001b[0m \u001b[1;33m=\u001b[0m \u001b[1;36m1\u001b[0m\u001b[1;33m\u001b[0m\u001b[1;33m\u001b[0m\u001b[0m\n\u001b[0;32m     11\u001b[0m \u001b[0mdriving\u001b[0m\u001b[1;33m.\u001b[0m\u001b[0minput\u001b[0m\u001b[1;33m[\u001b[0m\u001b[1;34m'wind'\u001b[0m\u001b[1;33m]\u001b[0m \u001b[1;33m=\u001b[0m \u001b[1;36m0\u001b[0m\u001b[1;33m\u001b[0m\u001b[1;33m\u001b[0m\u001b[0m\n",
      "\u001b[1;32m~\\anaconda3\\lib\\site-packages\\skfuzzy\\control\\controlsystem.py\u001b[0m in \u001b[0;36m__setitem__\u001b[1;34m(self, key, value)\u001b[0m\n\u001b[0;32m    166\u001b[0m \u001b[1;33m\u001b[0m\u001b[0m\n\u001b[0;32m    167\u001b[0m         \u001b[1;32mif\u001b[0m \u001b[0mlen\u001b[0m\u001b[1;33m(\u001b[0m\u001b[0mmatches\u001b[0m\u001b[1;33m)\u001b[0m \u001b[1;33m==\u001b[0m \u001b[1;36m0\u001b[0m\u001b[1;33m:\u001b[0m\u001b[1;33m\u001b[0m\u001b[1;33m\u001b[0m\u001b[0m\n\u001b[1;32m--> 168\u001b[1;33m             \u001b[1;32mraise\u001b[0m \u001b[0mValueError\u001b[0m\u001b[1;33m(\u001b[0m\u001b[1;34m\"Unexpected input: \"\u001b[0m \u001b[1;33m+\u001b[0m \u001b[0mkey\u001b[0m\u001b[1;33m)\u001b[0m\u001b[1;33m\u001b[0m\u001b[1;33m\u001b[0m\u001b[0m\n\u001b[0m\u001b[0;32m    169\u001b[0m         \u001b[1;32massert\u001b[0m \u001b[0mlen\u001b[0m\u001b[1;33m(\u001b[0m\u001b[0mmatches\u001b[0m\u001b[1;33m)\u001b[0m \u001b[1;33m==\u001b[0m \u001b[1;36m1\u001b[0m\u001b[1;33m\u001b[0m\u001b[1;33m\u001b[0m\u001b[0m\n\u001b[0;32m    170\u001b[0m         \u001b[0mvar\u001b[0m \u001b[1;33m=\u001b[0m \u001b[0mmatches\u001b[0m\u001b[1;33m[\u001b[0m\u001b[1;36m0\u001b[0m\u001b[1;33m]\u001b[0m\u001b[1;33m\u001b[0m\u001b[1;33m\u001b[0m\u001b[0m\n",
      "\u001b[1;31mValueError\u001b[0m: Unexpected input: traff"
     ]
    }
   ],
   "source": [
    "# Create Fuzzy rules\n",
    "rule1 = ctrl.Rule(temp['poor'] | traff['poor'], drive['poor'])\n",
    "# If temperature is poor or traffic is poor, then driving is poor.\n",
    "\n",
    "drive_ctrl = ctrl.ControlSystem([rule1])\n",
    "driving = ctrl.ControlSystemSimulation(drive_ctrl)\n",
    "\n",
    "# Input values for all antecedents\n",
    "driving.input['traff'] = 0\n",
    "driving.input['temperature'] = 1\n",
    "driving.input['wind'] = 0\n",
    "\n",
    "# Crunch the numbers\n",
    "driving.compute()\n",
    "print (driving.output['drive'])\n",
    "drive.view(sim=driving)"
   ]
  },
  {
   "cell_type": "code",
   "execution_count": 15,
   "id": "72654ee2",
   "metadata": {},
   "outputs": [
    {
     "ename": "ValueError",
     "evalue": "Length of feature_names, 14 does not match number of features, 3",
     "output_type": "error",
     "traceback": [
      "\u001b[1;31m---------------------------------------------------------------------------\u001b[0m",
      "\u001b[1;31mValueError\u001b[0m                                Traceback (most recent call last)",
      "\u001b[1;32m<ipython-input-15-e3a1e08d7332>\u001b[0m in \u001b[0;36m<module>\u001b[1;34m\u001b[0m\n\u001b[0;32m      4\u001b[0m \u001b[1;33m\u001b[0m\u001b[0m\n\u001b[0;32m      5\u001b[0m \u001b[1;31m# Create visual of decision tree\u001b[0m\u001b[1;33m\u001b[0m\u001b[1;33m\u001b[0m\u001b[1;33m\u001b[0m\u001b[0m\n\u001b[1;32m----> 6\u001b[1;33m dot_data2 = tree.export_graphviz(clf2, \n\u001b[0m\u001b[0;32m      7\u001b[0m                                 \u001b[0mfeature_names\u001b[0m \u001b[1;33m=\u001b[0m \u001b[0mdata\u001b[0m\u001b[1;33m[\u001b[0m\u001b[0mdata\u001b[0m\u001b[1;33m.\u001b[0m\u001b[0mcolumns\u001b[0m\u001b[1;33m[\u001b[0m\u001b[1;33m[\u001b[0m\u001b[1;36m0\u001b[0m\u001b[1;33m,\u001b[0m \u001b[1;36m1\u001b[0m\u001b[1;33m,\u001b[0m \u001b[1;36m2\u001b[0m\u001b[1;33m]\u001b[0m\u001b[1;33m]\u001b[0m\u001b[1;33m]\u001b[0m\u001b[1;33m,\u001b[0m\u001b[1;33m\u001b[0m\u001b[1;33m\u001b[0m\u001b[0m\n\u001b[0;32m      8\u001b[0m                                 \u001b[0mclass_names\u001b[0m \u001b[1;33m=\u001b[0m \u001b[1;33m[\u001b[0m\u001b[0mdata\u001b[0m\u001b[1;33m.\u001b[0m\u001b[0mcolumns\u001b[0m\u001b[1;33m[\u001b[0m\u001b[1;33m:\u001b[0m\u001b[1;33m-\u001b[0m\u001b[1;36m1\u001b[0m\u001b[1;33m]\u001b[0m\u001b[1;33m]\u001b[0m\u001b[1;33m,\u001b[0m\u001b[1;33m\u001b[0m\u001b[1;33m\u001b[0m\u001b[0m\n",
      "\u001b[1;32m~\\anaconda3\\lib\\site-packages\\sklearn\\utils\\validation.py\u001b[0m in \u001b[0;36minner_f\u001b[1;34m(*args, **kwargs)\u001b[0m\n\u001b[0;32m     61\u001b[0m             \u001b[0mextra_args\u001b[0m \u001b[1;33m=\u001b[0m \u001b[0mlen\u001b[0m\u001b[1;33m(\u001b[0m\u001b[0margs\u001b[0m\u001b[1;33m)\u001b[0m \u001b[1;33m-\u001b[0m \u001b[0mlen\u001b[0m\u001b[1;33m(\u001b[0m\u001b[0mall_args\u001b[0m\u001b[1;33m)\u001b[0m\u001b[1;33m\u001b[0m\u001b[1;33m\u001b[0m\u001b[0m\n\u001b[0;32m     62\u001b[0m             \u001b[1;32mif\u001b[0m \u001b[0mextra_args\u001b[0m \u001b[1;33m<=\u001b[0m \u001b[1;36m0\u001b[0m\u001b[1;33m:\u001b[0m\u001b[1;33m\u001b[0m\u001b[1;33m\u001b[0m\u001b[0m\n\u001b[1;32m---> 63\u001b[1;33m                 \u001b[1;32mreturn\u001b[0m \u001b[0mf\u001b[0m\u001b[1;33m(\u001b[0m\u001b[1;33m*\u001b[0m\u001b[0margs\u001b[0m\u001b[1;33m,\u001b[0m \u001b[1;33m**\u001b[0m\u001b[0mkwargs\u001b[0m\u001b[1;33m)\u001b[0m\u001b[1;33m\u001b[0m\u001b[1;33m\u001b[0m\u001b[0m\n\u001b[0m\u001b[0;32m     64\u001b[0m \u001b[1;33m\u001b[0m\u001b[0m\n\u001b[0;32m     65\u001b[0m             \u001b[1;31m# extra_args > 0\u001b[0m\u001b[1;33m\u001b[0m\u001b[1;33m\u001b[0m\u001b[1;33m\u001b[0m\u001b[0m\n",
      "\u001b[1;32m~\\anaconda3\\lib\\site-packages\\sklearn\\tree\\_export.py\u001b[0m in \u001b[0;36mexport_graphviz\u001b[1;34m(decision_tree, out_file, max_depth, feature_names, class_names, label, filled, leaves_parallel, impurity, node_ids, proportion, rotate, rounded, special_characters, precision)\u001b[0m\n\u001b[0;32m    786\u001b[0m             \u001b[0mrounded\u001b[0m\u001b[1;33m=\u001b[0m\u001b[0mrounded\u001b[0m\u001b[1;33m,\u001b[0m \u001b[0mspecial_characters\u001b[0m\u001b[1;33m=\u001b[0m\u001b[0mspecial_characters\u001b[0m\u001b[1;33m,\u001b[0m\u001b[1;33m\u001b[0m\u001b[1;33m\u001b[0m\u001b[0m\n\u001b[0;32m    787\u001b[0m             precision=precision)\n\u001b[1;32m--> 788\u001b[1;33m         \u001b[0mexporter\u001b[0m\u001b[1;33m.\u001b[0m\u001b[0mexport\u001b[0m\u001b[1;33m(\u001b[0m\u001b[0mdecision_tree\u001b[0m\u001b[1;33m)\u001b[0m\u001b[1;33m\u001b[0m\u001b[1;33m\u001b[0m\u001b[0m\n\u001b[0m\u001b[0;32m    789\u001b[0m \u001b[1;33m\u001b[0m\u001b[0m\n\u001b[0;32m    790\u001b[0m         \u001b[1;32mif\u001b[0m \u001b[0mreturn_string\u001b[0m\u001b[1;33m:\u001b[0m\u001b[1;33m\u001b[0m\u001b[1;33m\u001b[0m\u001b[0m\n",
      "\u001b[1;32m~\\anaconda3\\lib\\site-packages\\sklearn\\tree\\_export.py\u001b[0m in \u001b[0;36mexport\u001b[1;34m(self, decision_tree)\u001b[0m\n\u001b[0;32m    412\u001b[0m         \u001b[1;32mif\u001b[0m \u001b[0mself\u001b[0m\u001b[1;33m.\u001b[0m\u001b[0mfeature_names\u001b[0m \u001b[1;32mis\u001b[0m \u001b[1;32mnot\u001b[0m \u001b[1;32mNone\u001b[0m\u001b[1;33m:\u001b[0m\u001b[1;33m\u001b[0m\u001b[1;33m\u001b[0m\u001b[0m\n\u001b[0;32m    413\u001b[0m             \u001b[1;32mif\u001b[0m \u001b[0mlen\u001b[0m\u001b[1;33m(\u001b[0m\u001b[0mself\u001b[0m\u001b[1;33m.\u001b[0m\u001b[0mfeature_names\u001b[0m\u001b[1;33m)\u001b[0m \u001b[1;33m!=\u001b[0m \u001b[0mdecision_tree\u001b[0m\u001b[1;33m.\u001b[0m\u001b[0mn_features_\u001b[0m\u001b[1;33m:\u001b[0m\u001b[1;33m\u001b[0m\u001b[1;33m\u001b[0m\u001b[0m\n\u001b[1;32m--> 414\u001b[1;33m                 raise ValueError(\"Length of feature_names, %d \"\n\u001b[0m\u001b[0;32m    415\u001b[0m                                  \u001b[1;34m\"does not match number of features, %d\"\u001b[0m\u001b[1;33m\u001b[0m\u001b[1;33m\u001b[0m\u001b[0m\n\u001b[0;32m    416\u001b[0m                                  % (len(self.feature_names),\n",
      "\u001b[1;31mValueError\u001b[0m: Length of feature_names, 14 does not match number of features, 3"
     ]
    }
   ],
   "source": [
    "# Attempt #2 at Fuzzy Decision Tree with plot\n",
    "clf2 = FuzzyDecisionTreeClassifier()\n",
    "clf2.fit(X_train, y_train)\n",
    "\n",
    "# Create visual of decision tree\n",
    "dot_data2 = tree.export_graphviz(clf2, \n",
    "                                feature_names = data[data.columns[[0, 1, 2]]],  \n",
    "                                class_names = [data.columns[:-1]],  \n",
    "                                filled=True, \n",
    "                                rounded=True,  \n",
    "                                special_characters=True)  \n",
    "graph2 = graphviz.Source(dot_data)  \n",
    "graph2"
   ]
  },
  {
   "cell_type": "code",
   "execution_count": 16,
   "id": "a84ddf95",
   "metadata": {},
   "outputs": [],
   "source": [
    "# In the article attached, the authors study the quality of dried figs \n",
    "# by implementing machine learning and data mining. This includes a \n",
    "# combined decision tree-fuzzy logic (DT-FL) process to classify the \n",
    "# figs on their features. Within the DT_FL approach, the authors used \n",
    "# three different decision tree algorithms – J48 (C4.5 decision tree \n",
    "# learner), REP (reduced error puning), and LMT (logistic model trees)\n",
    "# to classify the data (Banakar et al., 2017). After they defined \n",
    "# membership functions and implemented the fuzzy rule base by decision\n",
    "# trees, they built the classification model using MATLAB. Lastly, \n",
    "# the authors evaluated their model by creating classification matrices,\n",
    "# as well as other performance factors like classification specificity,\n",
    "# root mean squared error, and correlation (Banakar et al., 2017). \n",
    "# The model with the best performance was the decision tree with REP \n",
    "# algorithm was the best classifier with 91.74% accuracy. These \n",
    "# findings can help other data scientists by giving good options for \n",
    "# their classification problems, as well as some background on how \n",
    "# these models performed with real world data."
   ]
  },
  {
   "cell_type": "code",
   "execution_count": 17,
   "id": "ee132568",
   "metadata": {},
   "outputs": [],
   "source": [
    "# Resources:\n",
    "#   Aznar, P. (2020, Feb 12). Decision Trees: Gini vs Entropy. Quant Dare. \n",
    "#   https://quantdare.com/decision-trees-gini-vs-entropy/  \n",
    "#    \n",
    "#   Banakar, A., Zareiforoush, H., Baigvand, M., Montazeri, M., Khodaei, J., & Behroozi‐Khazaei, N. \n",
    "#   (2017, June). Combined Application of Decision Tree and Fuzzy Logic Techniques for Intelligent Grading of Dried Figs.\n",
    "#   Journal of Food Process Engineering, 40(3), 1-12.\n",
    "#    \n",
    "#   Fuzzy Control Systems: The Tipping Problem. (n.d.). Python Hosted.\n",
    "#   https://pythonhosted.org/scikit-fuzzy/auto_examples/plot_tipping_problem_newapi.html \n",
    "#\n",
    "#   Plotting Fuzzy Decision Tree Classifier. (n.d.). FuzzyTree. \n",
    "#   https://balins.github.io/fuzzytree/auto_examples/plot_classifier.html#sphx-glr-auto-examples-plot-classifier-py \n",
    "#\n",
    "#   Pranto, B. (2020, Jan 2). Entropy Calculation, Information Gain & Decision Tree Learning. Analytics Vidhya.\n",
    "#   https://medium.com/analytics-vidhya/entropy-calculation-information-gain-decision-tree-learning-771325d16f \n",
    "#    \n",
    "#   Zhou, V. (2019, June 7). A Simple Explanation of Information Gain and Entropy. VictorZhou.\n",
    "#   https://victorzhou.com/blog/information-gain/ "
   ]
  }
 ],
 "metadata": {
  "kernelspec": {
   "display_name": "Python 3",
   "language": "python",
   "name": "python3"
  },
  "language_info": {
   "codemirror_mode": {
    "name": "ipython",
    "version": 3
   },
   "file_extension": ".py",
   "mimetype": "text/x-python",
   "name": "python",
   "nbconvert_exporter": "python",
   "pygments_lexer": "ipython3",
   "version": "3.8.8"
  }
 },
 "nbformat": 4,
 "nbformat_minor": 5
}
