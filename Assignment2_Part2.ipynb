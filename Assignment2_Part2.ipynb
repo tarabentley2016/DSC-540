{
 "cells": [
  {
   "cell_type": "code",
   "execution_count": 1,
   "id": "a07e5ccd",
   "metadata": {},
   "outputs": [],
   "source": [
    "import numpy as np\n",
    "from sklearn.neighbors import KNeighborsClassifier\n",
    "from sklearn import datasets\n",
    "from sklearn.model_selection import train_test_split\n",
    "from sklearn.metrics import classification_report\n",
    "import matplotlib.pyplot as plt"
   ]
  },
  {
   "cell_type": "code",
   "execution_count": 2,
   "id": "d6e5ee71",
   "metadata": {},
   "outputs": [],
   "source": [
    "# First import the data\n",
    "mnist = datasets.load_digits()"
   ]
  },
  {
   "cell_type": "code",
   "execution_count": 3,
   "id": "85dc1ea4",
   "metadata": {},
   "outputs": [],
   "source": [
    "# Split data into 25% test data and 75% training data \n",
    "trainData, testData, trainLabel, testLabel = train_test_split(np.array(mnist.data), \n",
    "                                                              mnist.target,\n",
    "                                                              test_size=0.25,\n",
    "                                                              random_state=42)"
   ]
  },
  {
   "cell_type": "code",
   "execution_count": 4,
   "id": "dd6d987b",
   "metadata": {},
   "outputs": [],
   "source": [
    "# Then split the data into training and validation test sets.\n",
    "trainData, valData, trainLabel, valLabel = train_test_split(trainData, \n",
    "                                                         trainLabel,\n",
    "                                                         test_size=0.1,\n",
    "                                                         random_state=84)"
   ]
  },
  {
   "cell_type": "code",
   "execution_count": 5,
   "id": "96f09b12",
   "metadata": {},
   "outputs": [
    {
     "name": "stdout",
     "output_type": "stream",
     "text": [
      "The shape of the Training data :  (1212, 64)\n",
      "The shape of the Testing data  :  (450, 64)\n"
     ]
    }
   ],
   "source": [
    "# Print the dimensions of the training and test data.\n",
    "print('The shape of the Training data : ', trainData.shape) \n",
    "print('The shape of the Testing data  : ', testData.shape)"
   ]
  },
  {
   "cell_type": "code",
   "execution_count": 11,
   "id": "ff66390b",
   "metadata": {
    "scrolled": false
   },
   "outputs": [
    {
     "name": "stdout",
     "output_type": "stream",
     "text": [
      "The image label of index 100 is 0.\n"
     ]
    },
    {
     "data": {
      "image/png": "[encoded data removed]",
      "text/plain": [
       "<Figure size 432x288 with 1 Axes>"
      ]
     },
     "metadata": {
      "needs_background": "light"
     },
     "output_type": "display_data"
    }
   ],
   "source": [
    "# For exploratory purposes, let's test the model's ability to recognize a random sample from the data in both the training and test data.\n",
    "def image_show(i, data, label):\n",
    "    x = data[i] # make the image a vector\n",
    "    x = x.reshape((8,8)) # reshape it to 8x8 format -- known from the shape outputs above\n",
    "    print('The image label of index %d is %d.' %(i, label[i]))\n",
    "    plt.imshow(x, cmap='gray') # show the image\n",
    "image_show(100, trainData, trainLabel) # select the 100th image from the training datas to display."
   ]
  },
  {
   "cell_type": "code",
   "execution_count": 8,
   "id": "6534eec7",
   "metadata": {},
   "outputs": [
    {
     "name": "stdout",
     "output_type": "stream",
     "text": [
      "The image label of index 100 is 4.\n"
     ]
    },
    {
     "data": {
      "image/png": "[encoded data removed]",
      "text/plain": [
       "<Figure size 432x288 with 1 Axes>"
      ]
     },
     "metadata": {
      "needs_background": "light"
     },
     "output_type": "display_data"
    }
   ],
   "source": [
    "image_show(100, testData, testLabel)  # select the 100th image from the test data to display."
   ]
  },
  {
   "cell_type": "code",
   "execution_count": 9,
   "id": "06f55fa5",
   "metadata": {},
   "outputs": [
    {
     "name": "stdout",
     "output_type": "stream",
     "text": [
      "k=1, accuracy= 99.26%\n",
      "k=3, accuracy= 99.26%\n",
      "k=5, accuracy= 99.26%\n",
      "k=7, accuracy= 99.26%\n",
      "k=9, accuracy= 99.26%\n",
      "k=11, accuracy= 99.26%\n",
      "k=13, accuracy= 99.26%\n",
      "k=15, accuracy= 99.26%\n",
      "k=17, accuracy= 98.52%\n",
      "k=19, accuracy= 98.52%\n",
      "k=21, accuracy= 97.78%\n",
      "k=23, accuracy= 97.04%\n",
      "k=25, accuracy= 97.78%\n",
      "k=27, accuracy= 97.04%\n",
      "k=29, accuracy= 97.04%\n"
     ]
    }
   ],
   "source": [
    "# Now let's find the optimal number of neighbors, k by evaluating the model's accuracy using an odd value of k from 1 to 30.\n",
    "ks = np.arange(1,30,2)\n",
    " \n",
    "for k in ks:\n",
    "    model = KNeighborsClassifier(n_neighbors=k)\n",
    "    model.fit(trainData,trainLabel)\n",
    "    \n",
    "    score = model.score(valData, valLabel)\n",
    "    print(\"k=%d, accuracy= %.2f%%\" % (k, score * 100))\n",
    "# We can see that k=1 is the minimum k for the highest accuracy at 99.26% accuracy."
   ]
  },
  {
   "cell_type": "code",
   "execution_count": 10,
   "id": "09bcb42e",
   "metadata": {},
   "outputs": [
    {
     "name": "stdout",
     "output_type": "stream",
     "text": [
      "              precision    recall  f1-score   support\n",
      "\n",
      "           0       1.00      1.00      1.00        43\n",
      "           1       0.95      1.00      0.97        37\n",
      "           2       1.00      1.00      1.00        38\n",
      "           3       0.98      0.98      0.98        46\n",
      "           4       0.98      0.98      0.98        55\n",
      "           5       0.98      1.00      0.99        59\n",
      "           6       1.00      1.00      1.00        45\n",
      "           7       1.00      0.98      0.99        41\n",
      "           8       0.97      0.95      0.96        38\n",
      "           9       0.96      0.94      0.95        48\n",
      "\n",
      "    accuracy                           0.98       450\n",
      "   macro avg       0.98      0.98      0.98       450\n",
      "weighted avg       0.98      0.98      0.98       450\n",
      "\n"
     ]
    }
   ],
   "source": [
    "model = KNeighborsClassifier(n_neighbors=1)\n",
    "model.fit(trainData,trainLabel)\n",
    "predictions = model.predict(testData)\n",
    "\n",
    "print(classification_report(testLabel,predictions))"
   ]
  },
  {
   "cell_type": "code",
   "execution_count": 12,
   "id": "5ff2beb7",
   "metadata": {},
   "outputs": [],
   "source": [
    "# The model performs at 100% accuracy for digits of 0, 2, 6, and 7 and an overall accuracy of 98%.\n",
    "\n",
    "# Resources:\n",
    "# K-Nearest Neighbor Classification with Tensorflow on Fashion MNIST Dataset. (n.d.). Google Colaboratory.\n",
    "# https://colab.research.google.com/github/FreeOfConfines/ExampleNNWithKerasAndTensorflow/blob/master/K_Nearest_Neighbor_Classification_with_Tensorflow_on_Fashion_MNIST_Dataset.ipynb#scrollTo=hvjiPiUazcV1 \n",
    "    \n",
    "#  K-NN for MNIST Classification. (2019, May 16). Back-Prop.\n",
    "#  https://www.back-prop.com/deep_learning/knn/mnist/2019/05/16/knn_classifier/"
   ]
  }
 ],
 "metadata": {
  "kernelspec": {
   "display_name": "Python 3",
   "language": "python",
   "name": "python3"
  },
  "language_info": {
   "codemirror_mode": {
    "name": "ipython",
    "version": 3
   },
   "file_extension": ".py",
   "mimetype": "text/x-python",
   "name": "python",
   "nbconvert_exporter": "python",
   "pygments_lexer": "ipython3",
   "version": "3.8.8"
  }
 },
 "nbformat": 4,
 "nbformat_minor": 5
}
